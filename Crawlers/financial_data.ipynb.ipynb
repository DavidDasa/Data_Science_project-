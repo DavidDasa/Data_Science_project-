{
 "cells": [
  {
   "cell_type": "markdown",
   "metadata": {},
   "source": [
    "# Financial Data"
   ]
  },
  {
   "cell_type": "markdown",
   "metadata": {},
   "source": [
    "## Imports"
   ]
  },
  {
   "cell_type": "code",
   "execution_count": null,
   "metadata": {},
   "outputs": [],
   "source": [
    "import pandas as pd\n",
    "import simfin as sf\n",
    "from simfin.names import *\n",
    "from tqdm.auto import tqdm\n",
    "from dotenv import dotenv_values"
   ]
  },
  {
   "cell_type": "markdown",
   "metadata": {},
   "source": [
    "## Constants"
   ]
  },
  {
   "cell_type": "markdown",
   "metadata": {},
   "source": [
    "## Settings"
   ]
  },
  {
   "cell_type": "code",
   "execution_count": null,
   "metadata": {},
   "outputs": [],
   "source": [
    "sf.set_data_dir('simfin_data/')\n",
    "sf.set_api_key(api_key={dotenv_values('.env')['SIMFIN_API_KEY']})"
   ]
  },
  {
   "cell_type": "markdown",
   "metadata": {},
   "source": [
    "## Utils"
   ]
  },
  {
   "cell_type": "code",
   "execution_count": null,
   "metadata": {},
   "outputs": [],
   "source": [
    "def get_financial_data_for_companies_and_years(csv_path: str, years: list = [2016, 2017, 2018, 2019, 2020]):\n",
    "    df = pd.read_csv(csv_path)\n",
    "    financial_df = sf.load(dataset='income', variant='annual', market='us')\n",
    "    symbols = df['Symbol']\n",
    "    financial_df = financial_df[financial_df['Ticker'].isin(symbols)].reset_index(drop=True)\n",
    "    financial_df = financial_df[financial_df['Fiscal Year'].isin(years)].reset_index(drop=True)\n",
    "    financial_df.to_csv('data/SP500_2020_simfin_financial_data.csv', index=False)\n",
    "    metadata_df = pd.DataFrame(columns=['Symbol'] + years)\n",
    "    for index, row in tqdm(financial_df.iterrows()):\n",
    "        symbol = row['Ticker']\n",
    "        year = row['Fiscal Year']\n",
    "        symbol_exist = len(metadata_df[metadata_df['Symbol'] == symbol])\n",
    "        if not symbol_exist:\n",
    "            metadata_df.loc[len(metadata_df)] = {'Symbol': symbol}\n",
    "        metadata_df.loc[metadata_df['Symbol'] == symbol, year] = True\n",
    "    metadata_df.to_csv('data/SP500_2020_simfin_financial_metadata.csv', index=False)"
   ]
  },
  {
   "cell_type": "code",
   "execution_count": null,
   "metadata": {},
   "outputs": [],
   "source": [
    "def check_companies_with_no_financial_data(metadata_path: str, financial_csv_path: str, reviews_csv_path: str):\n",
    "    metadata_df = pd.read_csv(metadata_path)\n",
    "    financial_df = pd.read_csv(financial_csv_path)\n",
    "    reviews_df = pd.read_csv(reviews_csv_path)\n",
    "    empty_companies = metadata_df[~metadata_df['Symbol'].isin(financial_df['Symbol'])]['Company Name']\n",
    "    display(reviews_df[reviews_df['Company Name'].isin(empty_companies)])"
   ]
  },
  {
   "cell_type": "code",
   "execution_count": null,
   "metadata": {},
   "outputs": [],
   "source": [
    "def check_companies_with_few_reviews(reviews_csv_path: str):\n",
    "    reviews_df = pd.read_csv(reviews_csv_path)\n",
    "    display(reviews_df[reviews_df['Number of Reviews'] < 30])"
   ]
  },
  {
   "cell_type": "markdown",
   "metadata": {},
   "source": [
    "## Run"
   ]
  },
  {
   "cell_type": "code",
   "execution_count": null,
   "metadata": {},
   "outputs": [],
   "source": [
    "CSV_PATH = 'data/SP500_2020_wikipedia_metadata.csv'\n",
    "# get_financial_data_for_companies_and_years(CSV_PATH)"
   ]
  },
  {
   "cell_type": "code",
   "execution_count": null,
   "metadata": {},
   "outputs": [],
   "source": [
    "METADATA_PATH = 'data/SP500_2020_wikipedia_metadata.csv'\n",
    "FINANCIAL_CSV_PATH = 'data/SP500_2020_simfin_financial_metadata.csv'\n",
    "REVIEWS_CSV_PATH = 'data/SP500_2020_reviews_metadata.csv'\n",
    "# check_companies_with_no_financial_data(METADATA_PATH, FINANCIAL_CSV_PATH, REVIEWS_CSV_PATH)"
   ]
  },
  {
   "cell_type": "code",
   "execution_count": null,
   "metadata": {},
   "outputs": [],
   "source": [
    "REVIEWS_CSV_PATH = 'data/SP500_2020_reviews_metadata.csv'\n",
    "# check_companies_with_few_reviews(REVIEWS_CSV_PATH)"
   ]
  }
 ],
 "metadata": {
  "kernelspec": {
   "display_name": "Python 3 (ipykernel)",
   "language": "python",
   "name": "python3"
  },
  "language_info": {
   "codemirror_mode": {
    "name": "ipython",
    "version": 3
   },
   "file_extension": ".py",
   "mimetype": "text/x-python",
   "name": "python",
   "nbconvert_exporter": "python",
   "pygments_lexer": "ipython3",
   "version": "3.9.13"
  },
  "vscode": {
   "interpreter": {
    "hash": "5cf5cc52e5c0f560aa7c345a47f42967bb56ea5fd57290582a3b768ecb5c3740"
   }
  }
 },
 "nbformat": 4,
 "nbformat_minor": 2
}
