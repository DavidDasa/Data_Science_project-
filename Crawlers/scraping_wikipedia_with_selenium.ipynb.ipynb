{
 "cells": [
  {
   "cell_type": "markdown",
   "metadata": {},
   "source": [
    "# Scraping Wikipedia with Selenium"
   ]
  },
  {
   "cell_type": "markdown",
   "metadata": {},
   "source": [
    "## Imports"
   ]
  },
  {
   "cell_type": "code",
   "execution_count": 8,
   "metadata": {},
   "outputs": [
    {
     "ename": "ModuleNotFoundError",
     "evalue": "No module named 'webdriver_manager'",
     "output_type": "error",
     "traceback": [
      "\u001b[1;31m---------------------------------------------------------------------------\u001b[0m",
      "\u001b[1;31mModuleNotFoundError\u001b[0m                       Traceback (most recent call last)",
      "\u001b[1;32m~\\AppData\\Local\\Temp\\ipykernel_16796\\2592436183.py\u001b[0m in \u001b[0;36m<module>\u001b[1;34m\u001b[0m\n\u001b[0;32m      9\u001b[0m \u001b[1;32mfrom\u001b[0m \u001b[0mselenium\u001b[0m\u001b[1;33m.\u001b[0m\u001b[0mwebdriver\u001b[0m\u001b[1;33m.\u001b[0m\u001b[0mchrome\u001b[0m\u001b[1;33m.\u001b[0m\u001b[0mservice\u001b[0m \u001b[1;32mimport\u001b[0m \u001b[0mService\u001b[0m\u001b[1;33m\u001b[0m\u001b[1;33m\u001b[0m\u001b[0m\n\u001b[0;32m     10\u001b[0m \u001b[1;32mfrom\u001b[0m \u001b[0mselenium\u001b[0m\u001b[1;33m.\u001b[0m\u001b[0mwebdriver\u001b[0m\u001b[1;33m.\u001b[0m\u001b[0msupport\u001b[0m\u001b[1;33m.\u001b[0m\u001b[0mui\u001b[0m \u001b[1;32mimport\u001b[0m \u001b[0mWebDriverWait\u001b[0m\u001b[1;33m\u001b[0m\u001b[1;33m\u001b[0m\u001b[0m\n\u001b[1;32m---> 11\u001b[1;33m \u001b[1;32mfrom\u001b[0m \u001b[0mwebdriver_manager\u001b[0m\u001b[1;33m.\u001b[0m\u001b[0mchrome\u001b[0m \u001b[1;32mimport\u001b[0m \u001b[0mChromeDriverManager\u001b[0m\u001b[1;33m\u001b[0m\u001b[1;33m\u001b[0m\u001b[0m\n\u001b[0m\u001b[0;32m     12\u001b[0m \u001b[1;32mfrom\u001b[0m \u001b[0mselenium\u001b[0m\u001b[1;33m.\u001b[0m\u001b[0mwebdriver\u001b[0m\u001b[1;33m.\u001b[0m\u001b[0msupport\u001b[0m \u001b[1;32mimport\u001b[0m \u001b[0mexpected_conditions\u001b[0m \u001b[1;32mas\u001b[0m \u001b[0mEC\u001b[0m\u001b[1;33m\u001b[0m\u001b[1;33m\u001b[0m\u001b[0m\n",
      "\u001b[1;31mModuleNotFoundError\u001b[0m: No module named 'webdriver_manager'"
     ]
    }
   ],
   "source": [
    "import os\n",
    "import pandas as pd\n",
    "from datetime import date\n",
    "from tqdm.auto import tqdm\n",
    "from selenium import webdriver\n",
    "from pymongo import MongoClient\n",
    "from dotenv import dotenv_values\n",
    "from selenium.webdriver.common.by import By\n",
    "from selenium.webdriver.chrome.service import Service\n",
    "from selenium.webdriver.support.ui import WebDriverWait\n",
    "from webdriver_manager.chrome import ChromeDriverManager\n",
    "from selenium.webdriver.support import expected_conditions as EC"
   ]
  },
  {
   "cell_type": "code",
   "execution_count": 12,
   "metadata": {},
   "outputs": [
    {
     "ename": "NameError",
     "evalue": "name 'ChromeDriverManager' is not defined",
     "output_type": "error",
     "traceback": [
      "\u001b[1;31m---------------------------------------------------------------------------\u001b[0m",
      "\u001b[1;31mNameError\u001b[0m                                 Traceback (most recent call last)",
      "\u001b[1;32m~\\AppData\\Local\\Temp\\ipykernel_16796\\667668742.py\u001b[0m in \u001b[0;36m<module>\u001b[1;34m\u001b[0m\n\u001b[1;32m----> 1\u001b[1;33m \u001b[0mwebdriver_path\u001b[0m \u001b[1;33m=\u001b[0m \u001b[0mChromeDriverManager\u001b[0m\u001b[1;33m(\u001b[0m\u001b[1;33m)\u001b[0m\u001b[1;33m.\u001b[0m\u001b[0minstall\u001b[0m\u001b[1;33m(\u001b[0m\u001b[1;33m)\u001b[0m\u001b[1;33m\u001b[0m\u001b[1;33m\u001b[0m\u001b[0m\n\u001b[0m\u001b[0;32m      2\u001b[0m \u001b[0mdriver\u001b[0m \u001b[1;33m=\u001b[0m \u001b[0mwebdriver\u001b[0m\u001b[1;33m.\u001b[0m\u001b[0mChrome\u001b[0m\u001b[1;33m(\u001b[0m\u001b[0mservice\u001b[0m\u001b[1;33m=\u001b[0m\u001b[0mService\u001b[0m\u001b[1;33m(\u001b[0m\u001b[0mwebdriver_path\u001b[0m\u001b[1;33m)\u001b[0m\u001b[1;33m)\u001b[0m\u001b[1;33m\u001b[0m\u001b[1;33m\u001b[0m\u001b[0m\n",
      "\u001b[1;31mNameError\u001b[0m: name 'ChromeDriverManager' is not defined"
     ]
    }
   ],
   "source": [
    "webdriver_path = ChromeDriverManager().install()\n",
    "driver = webdriver.Chrome(service=Service(webdriver_path))\n"
   ]
  },
  {
   "cell_type": "markdown",
   "metadata": {},
   "source": [
    "## Connections and Settings"
   ]
  },
  {
   "cell_type": "code",
   "execution_count": null,
   "metadata": {},
   "outputs": [],
   "source": [
    "# MonogoDB\n",
    "MONGODB_CONNECTION_STRING = f\"mongodb+srv://{dotenv_values('.env')['MONGODB_USERNAME']}:{dotenv_values('.env')['MONGODB_PASSWORD']}@{dotenv_values('.env')['MONGODB_CLUSTER']}.mongodb.net/?retryWrites=true&w=majority\"\n",
    "client = MongoClient(MONGODB_CONNECTION_STRING)\n",
    "db = client['glassdoor']\n",
    "\n",
    "# Selenium\n",
    "driver = webdriver.Chrome(service=Service(ChromeDriverManager().install()))"
   ]
  },
  {
   "cell_type": "markdown",
   "metadata": {},
   "source": [
    "## Scraping Utils"
   ]
  },
  {
   "cell_type": "code",
   "execution_count": null,
   "metadata": {},
   "outputs": [],
   "source": [
    "def wikipedia_table_title_to_csv_file_name(title):\n",
    "    return (title.split(\"[edit]\")[0] + \" \" + str(date.today()) + \".csv\").replace(\" \", \"_\")"
   ]
  },
  {
   "cell_type": "markdown",
   "metadata": {},
   "source": [
    "TODO: Add the same function with [Scrapy](https://scrapy.org/) and with [BeautifulSoup](https://medium.com/analytics-vidhya/web-scraping-a-wikipedia-table-into-a-dataframe-c52617e1f451)."
   ]
  },
  {
   "cell_type": "code",
   "execution_count": null,
   "metadata": {},
   "outputs": [],
   "source": [
    "# Selenium\n",
    "def scrape_tables_by_url(url):\n",
    "  driver.get(url)\n",
    "  table_titles = driver.find_elements(By.XPATH, '//table[contains(@class, \"wikitable\")]//preceding-sibling::h2')\n",
    "  tables = driver.find_elements(By.XPATH, '//table[contains(@class, \"wikitable\")]')\n",
    "  for table, title in zip(tables, table_titles):\n",
    "    df = pd.read_html(table.get_attribute('outerHTML'), encoding=\"utf-8\")[0]\n",
    "    csv_path = f\"data/{wikipedia_table_title_to_csv_file_name(title.text)}\"\n",
    "    os.makedirs(csv_path)\n",
    "    df.to_csv(csv_path, index=False, encoding=\"utf-8\")"
   ]
  },
  {
   "cell_type": "code",
   "execution_count": null,
   "metadata": {},
   "outputs": [],
   "source": [
    "# Selenium\n",
    "def scrape_companies_table_by_url(url, replacements=None):\n",
    "  driver.get(url)\n",
    "  table = driver.find_element(By.XPATH, '//table[contains(@class, \"wikitable\")][1]')\n",
    "  \n",
    "  df = pd.read_html(table.get_attribute('outerHTML'), encoding=\"utf-8\")[0]\n",
    "  company_links = driver.find_elements(By.XPATH, f'//table[contains(@class, \"wikitable\")][1]/tbody/tr/td[2]/a')\n",
    "  df[\"Wikipedia Company Page URL\"] = [link.get_attribute(\"href\") for link in company_links]\n",
    "  df[\"Company Name\"] = \"\"\n",
    "  new_df = pd.DataFrame(columns=df.columns)\n",
    "  for i in tqdm(range(len(df))):\n",
    "    security = df.loc[i, \"Security\"]\n",
    "    if replacements and (security in replacements):\n",
    "      company_name = replacements[security]\n",
    "      if isinstance(company_name, list):\n",
    "        for name in company_name:\n",
    "          new_df.loc[len(new_df)] = df.loc[i]\n",
    "          new_df.loc[len(new_df)-1, \"Company Name\"] = name\n",
    "      elif isinstance(company_name, str):\n",
    "        new_df.loc[len(new_df)] = df.loc[i]\n",
    "        new_df.loc[len(new_df)-1, \"Company Name\"] = company_name\n",
    "    else:\n",
    "      driver.get(df.loc[i, \"Wikipedia Company Page URL\"])\n",
    "      page_title = WebDriverWait(driver, 30).until(EC.presence_of_element_located((By.XPATH, f'//h1[contains(@id, \"firstHeading\")]')))\n",
    "      company_name = page_title.text.split(\"(\")[0].strip()\n",
    "      new_df.loc[len(new_df)] = df.loc[i]\n",
    "      new_df.loc[len(new_df)-1, \"Company Name\"] = company_name\n",
    "  \n",
    "  return new_df.drop_duplicates(\"Company Name\").sort_values(\"Company Name\").reset_index(drop=True)"
   ]
  },
  {
   "cell_type": "markdown",
   "metadata": {},
   "source": [
    "## DB Utils"
   ]
  },
  {
   "cell_type": "code",
   "execution_count": 9,
   "metadata": {},
   "outputs": [],
   "source": [
    "def insert_companies_data_to_db(df):\n",
    "  companies_collection = db[\"companies\"]\n",
    "  ids = companies_collection.insert_many(df.to_dict('records'))\n",
    "  return ids"
   ]
  },
  {
   "cell_type": "markdown",
   "metadata": {},
   "source": [
    "## Run"
   ]
  },
  {
   "cell_type": "code",
   "execution_count": 10,
   "metadata": {},
   "outputs": [],
   "source": [
    "def get_companies_table_and_save_to_db(url, replacements=None):\n",
    "  df = scrape_companies_table_by_url(url, replacements=replacements)\n",
    "  df.to_csv(\"s&p500_components_2020.csv\", index=False)\n",
    "  # ids = insert_companies_data_to_db(df)\n",
    "  # return ids"
   ]
  },
  {
   "cell_type": "code",
   "execution_count": 11,
   "metadata": {},
   "outputs": [
    {
     "ename": "NameError",
     "evalue": "name 'driver' is not defined",
     "output_type": "error",
     "traceback": [
      "\u001b[1;31m---------------------------------------------------------------------------\u001b[0m",
      "\u001b[1;31mNameError\u001b[0m                                 Traceback (most recent call last)",
      "\u001b[1;32m~\\AppData\\Local\\Temp\\ipykernel_16796\\488350983.py\u001b[0m in \u001b[0;36m<module>\u001b[1;34m\u001b[0m\n\u001b[0;32m     45\u001b[0m   \u001b[1;34m\"Xylem Inc.\"\u001b[0m\u001b[1;33m:\u001b[0m \u001b[1;34m\"Xylem\"\u001b[0m\u001b[1;33m,\u001b[0m\u001b[1;33m\u001b[0m\u001b[1;33m\u001b[0m\u001b[0m\n\u001b[0;32m     46\u001b[0m }\n\u001b[1;32m---> 47\u001b[1;33m \u001b[0mget_companies_table_and_save_to_db\u001b[0m\u001b[1;33m(\u001b[0m\u001b[0mURL\u001b[0m\u001b[1;33m,\u001b[0m \u001b[0mreplacements\u001b[0m\u001b[1;33m=\u001b[0m\u001b[0mREPLACEMENT\u001b[0m\u001b[1;33m)\u001b[0m\u001b[1;33m\u001b[0m\u001b[1;33m\u001b[0m\u001b[0m\n\u001b[0m",
      "\u001b[1;32m~\\AppData\\Local\\Temp\\ipykernel_16796\\4011116048.py\u001b[0m in \u001b[0;36mget_companies_table_and_save_to_db\u001b[1;34m(url, replacements)\u001b[0m\n\u001b[0;32m      1\u001b[0m \u001b[1;32mdef\u001b[0m \u001b[0mget_companies_table_and_save_to_db\u001b[0m\u001b[1;33m(\u001b[0m\u001b[0murl\u001b[0m\u001b[1;33m,\u001b[0m \u001b[0mreplacements\u001b[0m\u001b[1;33m=\u001b[0m\u001b[1;32mNone\u001b[0m\u001b[1;33m)\u001b[0m\u001b[1;33m:\u001b[0m\u001b[1;33m\u001b[0m\u001b[1;33m\u001b[0m\u001b[0m\n\u001b[1;32m----> 2\u001b[1;33m   \u001b[0mdf\u001b[0m \u001b[1;33m=\u001b[0m \u001b[0mscrape_companies_table_by_url\u001b[0m\u001b[1;33m(\u001b[0m\u001b[0murl\u001b[0m\u001b[1;33m,\u001b[0m \u001b[0mreplacements\u001b[0m\u001b[1;33m=\u001b[0m\u001b[0mreplacements\u001b[0m\u001b[1;33m)\u001b[0m\u001b[1;33m\u001b[0m\u001b[1;33m\u001b[0m\u001b[0m\n\u001b[0m\u001b[0;32m      3\u001b[0m   \u001b[0mdf\u001b[0m\u001b[1;33m.\u001b[0m\u001b[0mto_csv\u001b[0m\u001b[1;33m(\u001b[0m\u001b[1;34m\"s&p500_components_2020.csv\"\u001b[0m\u001b[1;33m,\u001b[0m \u001b[0mindex\u001b[0m\u001b[1;33m=\u001b[0m\u001b[1;32mFalse\u001b[0m\u001b[1;33m)\u001b[0m\u001b[1;33m\u001b[0m\u001b[1;33m\u001b[0m\u001b[0m\n\u001b[0;32m      4\u001b[0m   \u001b[1;31m# ids = insert_companies_data_to_db(df)\u001b[0m\u001b[1;33m\u001b[0m\u001b[1;33m\u001b[0m\u001b[0m\n\u001b[0;32m      5\u001b[0m   \u001b[1;31m# return ids\u001b[0m\u001b[1;33m\u001b[0m\u001b[1;33m\u001b[0m\u001b[0m\n",
      "\u001b[1;32m~\\AppData\\Local\\Temp\\ipykernel_16796\\182997091.py\u001b[0m in \u001b[0;36mscrape_companies_table_by_url\u001b[1;34m(url, replacements)\u001b[0m\n\u001b[0;32m      1\u001b[0m \u001b[1;31m# Selenium\u001b[0m\u001b[1;33m\u001b[0m\u001b[1;33m\u001b[0m\u001b[0m\n\u001b[0;32m      2\u001b[0m \u001b[1;32mdef\u001b[0m \u001b[0mscrape_companies_table_by_url\u001b[0m\u001b[1;33m(\u001b[0m\u001b[0murl\u001b[0m\u001b[1;33m,\u001b[0m \u001b[0mreplacements\u001b[0m\u001b[1;33m=\u001b[0m\u001b[1;32mNone\u001b[0m\u001b[1;33m)\u001b[0m\u001b[1;33m:\u001b[0m\u001b[1;33m\u001b[0m\u001b[1;33m\u001b[0m\u001b[0m\n\u001b[1;32m----> 3\u001b[1;33m   \u001b[0mdriver\u001b[0m\u001b[1;33m.\u001b[0m\u001b[0mget\u001b[0m\u001b[1;33m(\u001b[0m\u001b[0murl\u001b[0m\u001b[1;33m)\u001b[0m\u001b[1;33m\u001b[0m\u001b[1;33m\u001b[0m\u001b[0m\n\u001b[0m\u001b[0;32m      4\u001b[0m   \u001b[0mtable\u001b[0m \u001b[1;33m=\u001b[0m \u001b[0mdriver\u001b[0m\u001b[1;33m.\u001b[0m\u001b[0mfind_element\u001b[0m\u001b[1;33m(\u001b[0m\u001b[0mBy\u001b[0m\u001b[1;33m.\u001b[0m\u001b[0mXPATH\u001b[0m\u001b[1;33m,\u001b[0m \u001b[1;34m'//table[contains(@class, \"wikitable\")][1]'\u001b[0m\u001b[1;33m)\u001b[0m\u001b[1;33m\u001b[0m\u001b[1;33m\u001b[0m\u001b[0m\n\u001b[0;32m      5\u001b[0m \u001b[1;33m\u001b[0m\u001b[0m\n",
      "\u001b[1;31mNameError\u001b[0m: name 'driver' is not defined"
     ]
    }
   ],
   "source": [
    "# Wikipedia updated list of S&P500 components\n",
    "# URL = \"https://en.wikipedia.org/wiki/List_of_S%26P_500_companies\"\n",
    "\n",
    "# Wikipedia list of S&P500 components as of 1.1.2020\n",
    "URL = \"https://en.wikipedia.org/w/index.php?title=List_of_S%26P_500_companies&oldid=933578501\"\n",
    "REPLACEMENT = {\n",
    "  \"Alliance Data Systems\": \"Bread Financial\",\n",
    "  \"Alphabet Inc Class A\": None, # holding company with few to none reviews\n",
    "  \"Alphabet Inc Class C\": None, # holding company with few to none reviews\n",
    "  \"American Water Works Company Inc\": \"American Water\",\n",
    "  \"Apache Corporation\": \"Apache\",\n",
    "  \"Booking Holdings Inc\": None, # holding company with few to none reviews\n",
    "  \"Charter Communications\": \"Spectrum\",\n",
    "  \"Cisco Systems\": \"Cisco Systems\",\n",
    "  \"Citizens Financial Group\": \"Citizens\",\n",
    "  \"CMS Energy\": \"Consumers Energy\",\n",
    "  \"Cognizant Technology Solutions\": \"Cognizant Technology Solutions\",\n",
    "  \"Concho Resources\": \"Concho\",\n",
    "  \"D. R. Horton\": \"D.R. Horton\",\n",
    "  \"E*Trade\": None,  # company does not exist anymore\n",
    "  \"Edison Int'l\": \"Southern California Edison\",\n",
    "  \"Fortive Corp\": None, # holding company with few to none reviews\n",
    "  \"Fortune Brands Home & Security\": None, # holding company with few to none reviews\n",
    "  \"Grainger (W.W.) Inc.\": \"Grainger\",\n",
    "  \"HollyFrontier Corp\": \"HollyFrontier Corporation\",\n",
    "  \"Howmet Aerospace\": \"Arconic\",\n",
    "  \"J. B. Hunt Transport Services\": \"J.B. Hunt Transport\",\n",
    "  \"JPMorgan Chase\": None, # There are no reviews in 2017-2019\n",
    "  \"Kellogg's\": \"Kellogg Company\",\n",
    "  \"Kohl's Corp.\": \"Kohl's\",\n",
    "  \"Loews Corp.\": \"Loews Hotels & Co\",\n",
    "  \"Lowe's Cos.\": \"Lowe's Home Improvement\",\n",
    "  \"National Oilwell Varco Inc.\": \"National Oilwell Varco\",\n",
    "  \"ViacomCBS\": \"Paramount\",\n",
    "  \"Pinnacle West Capital\": None, # holding company with few to none reviews\n",
    "  \"PNC Financial Services\": \"PNC Financial Services Group\",\n",
    "  \"PPG Industries\": \"PPG\",\n",
    "  \"Prudential Financial\": \"Prudential\",\n",
    "  \"Truist Financial\": None, # There are no reviews in 2017-2019\n",
    "  \"Under Armour Class A\": \"Under Armour\",\n",
    "  \"Under Armour Class C\": \"Under Armour\",\n",
    "  \"United Airlines Holdings\": \"United Airlines\",\n",
    "  \"Waste Management Inc.\": \"Waste Management Inc.\",\n",
    "  \"Williams Cos.\": \"Williams\",\n",
    "  \"Xylem Inc.\": \"Xylem\",\n",
    "}\n",
    "get_companies_table_and_save_to_db(URL, replacements=REPLACEMENT)\n"
   ]
  },
  {
   "cell_type": "code",
   "execution_count": null,
   "metadata": {},
   "outputs": [],
   "source": []
  },
  {
   "cell_type": "code",
   "execution_count": null,
   "metadata": {},
   "outputs": [],
   "source": []
  }
 ],
 "metadata": {
  "kernelspec": {
   "display_name": "Python 3 (ipykernel)",
   "language": "python",
   "name": "python3"
  },
  "language_info": {
   "codemirror_mode": {
    "name": "ipython",
    "version": 3
   },
   "file_extension": ".py",
   "mimetype": "text/x-python",
   "name": "python",
   "nbconvert_exporter": "python",
   "pygments_lexer": "ipython3",
   "version": "3.9.13"
  },
  "vscode": {
   "interpreter": {
    "hash": "5cf5cc52e5c0f560aa7c345a47f42967bb56ea5fd57290582a3b768ecb5c3740"
   }
  }
 },
 "nbformat": 4,
 "nbformat_minor": 2
}
